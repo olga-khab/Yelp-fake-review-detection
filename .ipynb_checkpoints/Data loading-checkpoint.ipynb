{
 "cells": [
  {
   "cell_type": "markdown",
   "metadata": {},
   "source": [
    "## Getting average review ratings for the restaurant before the date of the given review \n",
    "Takes about 16 hours to execute, result is written to csv "
   ]
  },
  {
   "cell_type": "code",
   "execution_count": 93,
   "metadata": {},
   "outputs": [],
   "source": [
    "import pandas as pd\n",
    "import random\n",
    "import seaborn as sns\n",
    "import numpy as np\n",
    "import matplotlib.pyplot as plt\n",
    "\n",
    "import time\n",
    "\n",
    "\n",
    "from scipy import stats\n"
   ]
  },
  {
   "cell_type": "code",
   "execution_count": 174,
   "metadata": {},
   "outputs": [],
   "source": [
    "############### Making a balanced dataframe #################\n",
    "random.seed(1)\n",
    "\n",
    "df_emotion_and_LIWC = pd.read_csv(\"LIWC_and_emotions.csv\")\n",
    "pos = (df_emotion_and_LIWC[df_emotion_and_LIWC[\"flagged\"]==\"Y\"])\n",
    "neg= (df_emotion_and_LIWC[df_emotion_and_LIWC[\"flagged\"]==\"N\"])\n",
    "df_neg_only = neg.sample(n=len(pos), random_state =1)\n",
    "\n",
    "df_emotion = pd.concat([df_neg_only, pos])\n",
    "\n",
    "############### A smaller subset of 4000 entries #################\n",
    "#df_neg_subset = neg.sample(n=4000, random_state =1)\n",
    "#df_pos_subset = pos.sample(n=4000, random_state =1)\n",
    "#df_emotion = pd.concat([df_neg_subset, df_pos_subset])\n"
   ]
  },
  {
   "cell_type": "code",
   "execution_count": 65,
   "metadata": {},
   "outputs": [],
   "source": [
    "import sqlite3\n",
    "\n",
    "def connect_db(db_file):\n",
    "    conn = None\n",
    "    try:\n",
    "        conn = sqlite3.connect(db_file)\n",
    "    except Error as e:\n",
    "        print(e)\n",
    "\n",
    "    return conn\n",
    "\n",
    "conn = connect_db(\"/Users/jamesfyfe/summer vac misc/yelpResData.db\")\n",
    "\n",
    "cur = conn.cursor()\n"
   ]
  },
  {
   "cell_type": "code",
   "execution_count": 61,
   "metadata": {},
   "outputs": [],
   "source": [
    "cur.execute(\"\"\"SELECT restaurantid,count(*) as c\n",
    "                                  FROM REVIEW \n",
    "                                  where flagged like 'Y'\n",
    "                                  group by restaurantid\n",
    "                                  \n",
    "                                order by c desc\n",
    "                                 \"\"\")\n",
    "count_reviews = cur.fetchall()"
   ]
  },
  {
   "cell_type": "code",
   "execution_count": 62,
   "metadata": {},
   "outputs": [
    {
     "data": {
      "text/plain": [
       "0.7755102040816326"
      ]
     },
     "execution_count": 62,
     "metadata": {},
     "output_type": "execute_result"
    }
   ],
   "source": [
    "count_reviews = pd.DataFrame(count_reviews)\n",
    "len(count_reviews[count_reviews[1]<=100])/len(count_reviews)\n",
    "#plt.hist(count_reviews[1])"
   ]
  },
  {
   "cell_type": "code",
   "execution_count": 39,
   "metadata": {},
   "outputs": [
    {
     "data": {
      "text/plain": [
       "1"
      ]
     },
     "execution_count": 39,
     "metadata": {},
     "output_type": "execute_result"
    }
   ],
   "source": [
    "sum(count_reviews[count_reviews[1]<=100])"
   ]
  },
  {
   "cell_type": "code",
   "execution_count": 95,
   "metadata": {},
   "outputs": [
    {
     "name": "stdout",
     "output_type": "stream",
     "text": [
      "--- 2.743375778198242 seconds ---\n",
      "--- 2.450901985168457 seconds ---\n",
      "--- 2.379041910171509 seconds ---\n",
      "--- 2.36971116065979 seconds ---\n"
     ]
    },
    {
     "ename": "KeyboardInterrupt",
     "evalue": "",
     "output_type": "error",
     "traceback": [
      "\u001b[0;31m---------------------------------------------------------------------------\u001b[0m",
      "\u001b[0;31mKeyboardInterrupt\u001b[0m                         Traceback (most recent call last)",
      "\u001b[0;32m<ipython-input-95-92967b36fcad>\u001b[0m in \u001b[0;36m<module>\u001b[0;34m\u001b[0m\n\u001b[1;32m     20\u001b[0m                                   \u001b[0mAND\u001b[0m \u001b[0mREVIEWID\u001b[0m \u001b[0;34m!=\u001b[0m \u001b[0;34m'{}'\u001b[0m\u001b[0;34m\u001b[0m\u001b[0;34m\u001b[0m\u001b[0m\n\u001b[1;32m     21\u001b[0m                                   GROUP BY RESTAURANTID\"\"\".format(reviewid,reviewid,reviewid)\n\u001b[0;32m---> 22\u001b[0;31m         \u001b[0mcursor\u001b[0m\u001b[0;34m.\u001b[0m\u001b[0mexecute\u001b[0m\u001b[0;34m(\u001b[0m\u001b[0mquery_rating_by_date\u001b[0m\u001b[0;34m)\u001b[0m\u001b[0;34m\u001b[0m\u001b[0;34m\u001b[0m\u001b[0m\n\u001b[0m\u001b[1;32m     23\u001b[0m         \u001b[0mrows\u001b[0m \u001b[0;34m=\u001b[0m \u001b[0mcursor\u001b[0m\u001b[0;34m.\u001b[0m\u001b[0mfetchall\u001b[0m\u001b[0;34m(\u001b[0m\u001b[0;34m)\u001b[0m\u001b[0;34m\u001b[0m\u001b[0;34m\u001b[0m\u001b[0m\n\u001b[1;32m     24\u001b[0m         \u001b[0mrating_by_date\u001b[0m\u001b[0;34m.\u001b[0m\u001b[0mappend\u001b[0m\u001b[0;34m(\u001b[0m\u001b[0;34m[\u001b[0m\u001b[0mreviewid\u001b[0m\u001b[0;34m,\u001b[0m\u001b[0mrows\u001b[0m\u001b[0;34m]\u001b[0m\u001b[0;34m)\u001b[0m\u001b[0;34m\u001b[0m\u001b[0;34m\u001b[0m\u001b[0m\n",
      "\u001b[0;31mKeyboardInterrupt\u001b[0m: "
     ]
    }
   ],
   "source": [
    "# get restaurants matching our balanced reviews dataset\n",
    "\n",
    "connect = connect_db(\"/Users/jamesfyfe/summer vac misc/yelpResData.db\")\n",
    "cursor = connect.cursor()\n",
    "\n",
    "lst_done = []\n",
    "rating_by_date = []\n",
    "\n",
    "\n",
    "for reviewid in df_emotion[\"reviewID\"]:\n",
    "    start_time = time.time()\n",
    "\n",
    "    if not (reviewid in lst_done):\n",
    "        #resid = df_emotion[df_emotion[\"reviewID\"]==reviewid][\"restaurantID\"]\n",
    "        #revdate = df_emotion[df_emotion[\"reviewID\"]==reviewid][\"date\"]\n",
    "        query_rating_by_date = \"\"\"SELECT AVG(RATING)\n",
    "                                  FROM REVIEW \n",
    "                                  WHERE restaurantID LIKE (SELECT RESTAURANTID FROM REVIEW WHERE REVIEWID LIKE '{}')\n",
    "                                  AND DATE <= (SELECT DATE FROM REVIEW WHERE REVIEWID LIKE '{}')\n",
    "                                  AND REVIEWID != '{}'\n",
    "                                  GROUP BY RESTAURANTID\"\"\".format(reviewid,reviewid,reviewid)\n",
    "        cursor.execute(query_rating_by_date)\n",
    "        rows = cursor.fetchall()\n",
    "        rating_by_date.append([reviewid,rows])\n",
    "\n",
    "        #i = len(rating_by_date)\n",
    "        #if (i%1000==0):\n",
    "        #    print(i)\n"
   ]
  },
  {
   "cell_type": "code",
   "execution_count": 105,
   "metadata": {},
   "outputs": [
    {
     "ename": "OperationalError",
     "evalue": "Could not decode to UTF-8 column 'reviewContent' with text 'I have never had a bad anything at Shaw's! Not a bread stick, an ice cube or a dirty look �This place rocks! �The Lobster Bisque �is on my",
     "output_type": "error",
     "traceback": [
      "\u001b[0;31m---------------------------------------------------------------------------\u001b[0m",
      "\u001b[0;31mOperationalError\u001b[0m                          Traceback (most recent call last)",
      "\u001b[0;32m<ipython-input-105-3f2995aba897>\u001b[0m in \u001b[0;36m<module>\u001b[0;34m\u001b[0m\n\u001b[1;32m     17\u001b[0m \u001b[0;34m\u001b[0m\u001b[0m\n\u001b[1;32m     18\u001b[0m \u001b[0mcursor\u001b[0m\u001b[0;34m.\u001b[0m\u001b[0mexecute\u001b[0m\u001b[0;34m(\u001b[0m\u001b[0mquery_rating_by_date\u001b[0m\u001b[0;34m)\u001b[0m\u001b[0;34m\u001b[0m\u001b[0;34m\u001b[0m\u001b[0m\n\u001b[0;32m---> 19\u001b[0;31m \u001b[0mrows\u001b[0m \u001b[0;34m=\u001b[0m \u001b[0mcursor\u001b[0m\u001b[0;34m.\u001b[0m\u001b[0mfetchall\u001b[0m\u001b[0;34m(\u001b[0m\u001b[0;34m)\u001b[0m\u001b[0;34m\u001b[0m\u001b[0;34m\u001b[0m\u001b[0m\n\u001b[0m\u001b[1;32m     20\u001b[0m \u001b[0mrating_by_date\u001b[0m\u001b[0;34m.\u001b[0m\u001b[0mappend\u001b[0m\u001b[0;34m(\u001b[0m\u001b[0;34m[\u001b[0m\u001b[0mrows\u001b[0m\u001b[0;34m]\u001b[0m\u001b[0;34m)\u001b[0m\u001b[0;34m\u001b[0m\u001b[0;34m\u001b[0m\u001b[0m\n\u001b[1;32m     21\u001b[0m \u001b[0mprint\u001b[0m\u001b[0;34m(\u001b[0m\u001b[0;34m\"--- %s seconds ---\"\u001b[0m \u001b[0;34m%\u001b[0m \u001b[0;34m(\u001b[0m\u001b[0mtime\u001b[0m\u001b[0;34m.\u001b[0m\u001b[0mtime\u001b[0m\u001b[0;34m(\u001b[0m\u001b[0;34m)\u001b[0m \u001b[0;34m-\u001b[0m \u001b[0mstart_time\u001b[0m\u001b[0;34m)\u001b[0m\u001b[0;34m)\u001b[0m\u001b[0;34m\u001b[0m\u001b[0;34m\u001b[0m\u001b[0m\n",
      "\u001b[0;31mOperationalError\u001b[0m: Could not decode to UTF-8 column 'reviewContent' with text 'I have never had a bad anything at Shaw's! Not a bread stick, an ice cube or a dirty look �This place rocks! �The Lobster Bisque �is on my"
     ]
    }
   ],
   "source": [
    "# get restaurants matching our balanced reviews dataset\n",
    "\n",
    "connect = connect_db(\"/Users/jamesfyfe/summer vac misc/yelpResData.db\")\n",
    "cursor = connect.cursor()\n",
    "\n",
    "lst_done = []\n",
    "rating_by_date = []\n",
    "\n",
    "start_time = time.time()\n",
    "\n",
    "    \n",
    "    # resid = df_emotion[df_emotion[\"reviewID\"]==reviewid][\"restaurantID\"]\n",
    "    # revdate = df_emotion[df_emotion[\"reviewID\"]==reviewid][\"date\"]\n",
    "query_rating_by_date = \"\"\"SELECT *\n",
    "                          FROM REVIEW \n",
    "                          WHERE reviewID in {}\"\"\".format(tuple(df_emotion[\"reviewID\"]))\n",
    "                                  \n",
    "cursor.execute(query_rating_by_date)\n",
    "rows = cursor.fetchall()\n",
    "rating_by_date.append([rows])\n",
    "print(\"--- %s seconds ---\" % (time.time() - start_time))\n"
   ]
  },
  {
   "cell_type": "code",
   "execution_count": 97,
   "metadata": {},
   "outputs": [
    {
     "data": {
      "text/plain": [
       "[[[('6/7/2011',\n",
       "    '8q6yRsty4hxvDRnUjwAq9Q',\n",
       "    'YM9Hho5RwQLIStYpg-Ewmg',\n",
       "    'Above average food and quality service. The empanadas were perfect and the cubano sandwich was really good as well. Probably the best cuban I have had in the city so far.',\n",
       "    4,\n",
       "    1,\n",
       "    0,\n",
       "    0,\n",
       "    'N',\n",
       "    'mCHto10PBQOKnefm7gholg')]],\n",
       " [[('6/22/2007',\n",
       "    '0xUuB58cdwMIc2teb2HsgQ',\n",
       "    'pNvcz5tOmbpJRKVQT8wSBA',\n",
       "    \"I stopped in here the other day for lunch, without knowing anything about the place. I didn't order breakfast but it did look really good from what I saw on the menu and the orders being delivered around me. I was in shock at how fast I got my food. They had to be one of the fastest places I have been to in awhile. I ordered a wrap with the pasta salad and eat every last bite. It was delicious! If you was looking for something different for lunch check it out! The service is great. and the interior was very well designed.\",\n",
       "    4,\n",
       "    2,\n",
       "    0,\n",
       "    0,\n",
       "    'N',\n",
       "    'tCkwBTuEFvhuaBoEUWqbuQ')]],\n",
       " [[('10/20/2010',\n",
       "    'JTY5qyYymCt5kxqpaYC5Yg',\n",
       "    'YUIURN8PjHoPCAOdb6L76A',\n",
       "    \"I attended a kickoff party at the 50/50 for a conference I attended the next day. I didn't get to eat their self touted best wings in Chicago. The party room in the basement was sufficient and the staff attentive. The best part was that the party included a Guinness pouring contest complete with the Guinness girls.\",\n",
       "    3,\n",
       "    0,\n",
       "    0,\n",
       "    0,\n",
       "    'N',\n",
       "    '6gZTET0y7ARZMrbJRmI2mw')]],\n",
       " [[('10/26/2010',\n",
       "    'qgQtXRVymfx0c7RkCB9AWw',\n",
       "    'glrRFmCLj3cf1XVLrNPWHw',\n",
       "    \"Great place to go for a drink, especially on the rooftop. Have always had friendly servers and bartenders. The times I've been there, it's been pleasantly crowded...no wait, yet just enough people to make you feel comfortable. Love starting the night at Zed451.\",\n",
       "    4,\n",
       "    0,\n",
       "    0,\n",
       "    0,\n",
       "    'N',\n",
       "    'd6UbRb9W5eA1yL-DuVZ8ug')]],\n",
       " [[('1/31/2012',\n",
       "    'rDI9O4FItAiJI-w',\n",
       "    'YQYgg_j6lu1KdgzVw-uQAQ',\n",
       "    'The servers were very helpful and friendly, We had a little trouble navigating the menu but our waitress heped walk us through it as well as gave great recommendations. The atmosphere is comfortable and cozy feeling, a nice diverse group of people at the restaurant. The food is delicious! I nice selection of meat and vegetarian options, delicious!!',\n",
       "    5,\n",
       "    0,\n",
       "    0,\n",
       "    0,\n",
       "    'N',\n",
       "    'JDNZxz0ud7zhuPo5pqznMA')]],\n",
       " [[('12/17/2007',\n",
       "    'K0izhBuONzXcsHu3Ws8smQ',\n",
       "    'Dlv31hmpzG1H-pYn-kWqbA',\n",
       "    'I\\'ve been dying to try this place and since my friend from the O.C. came in today, what better way to celebrate!? The hostesses ignored us a bit when we walked in. \\xa0It seemed like they were just chatting, while we\\'re standing there waiting, with no one in front of us, to get a table. \\xa0 But, once they acknowledged us, they couldn\\'t be nicer. The service was great. \\xa0We were well informed about the menu and the specials. I heard fantastic things about the mussels in vindaloo sauce and it did NOT disappoint. \\xa0YUM-MEE. \\xa0We also enjoyed the caramelized \\xa0lobster, quite tasty. For our Fourths (yes, there are firsts, seconds and thirds as well) we had the char (some kind of fish) and the beef tenderloin. \\xa0Both delicious. Overall, this was a great place. \\xa0I\\'d go back for the starters (first, seconds and thirds) but I think the fourths were just a bit much. \\xa0I think the menu is trying too hard to be something more. \\xa0And it\\'s more spendy than I like to spend for a local \"pub\" or \"grill\" type atmosphere. The place was pretty noisy, so I was disappointed by that. \\xa0We had to yell a bit to talk to each other. \\xa0I do apologize to my fellow diners, I\\'m sure I wasn\\'t talking about anything dinner table appropriate. \\xa0 The interior is absolutely gorgeous and it has a done of seating! \\xa0The downstairs bar area is fantastic for a party. \\xa0I will totally recommend for next year\\'s holiday party! I really enjoyed the place, overall.',\n",
       "    4,\n",
       "    1,\n",
       "    0,\n",
       "    0,\n",
       "    'N',\n",
       "    'vvhfPV-Llkd4fE2SHuLVvA')]],\n",
       " [[('9/2/2010',\n",
       "    'coEt11b83t6gtiXbKGxNwg',\n",
       "    'oZK2DjCiA-8Xq6utMi4AYA',\n",
       "    'I\\'ve been here a few times now and Wakamono is a solid OK. The staff needs some help. There seemed to be a language barrier with our server and the busboy, I don\\'t think they could communicate with each other either. An attempt to ask the busboy to get our server for us turned into pointing at the host and very clearly saying \"Him. Get him.\" All we wanted was to order more food, which was slightly difficult as well. I feel like I\\'m always hot or cold, never comfortable, here. The dining room is very pretty, it\\'s nice to look at. But my teeth were chattering so loud from the shivering that it was hard to have a conversation. It\\'s summer in Chicago, I was wearing jeans and a silk shirt, there is really no good reason for me to be so cold while eating dinner. The koi swimming around in the little pool next to our table was a nice touch though. The food doesn\\'t quite make up for the service and chillness. It\\'s not great, it\\'s not worth the shivering.',\n",
       "    3,\n",
       "    5,\n",
       "    2,\n",
       "    1,\n",
       "    'N',\n",
       "    '1QKqtC4vML3QhkrSzwR_tQ')]],\n",
       " [[('5/24/2007',\n",
       "    'zUYjztmuAm5lcc74K4b3Uw',\n",
       "    'XpsSVV1ZG1x7JVnC2mDc5Q',\n",
       "    'My first experience at Frontera was about two years ago when I was taken around the city by a Boulder chef friend of mine. \\xa0We started at Frontera and ended at Avec, with special little stops on the way. \\xa0Frontera is the perfect fusion of street Mexican and the upscale \"gourmet\" establishments. \\xa0Go here with friends or co-workers to get a funky Margarita and awesome guacamole. \\xa0I would almost hands down recommend any of the taco al carbon and the frijoles charros (amazing!). \\xa0The last time I went I had the Milanesa de Puerco which was also fantastic. \\xa0 The atmosphere is what really makes this a great place to chill and hang out. \\xa0Wonderful, vibrant colors, great artwork and great service, this alone makes coming here a treat. Anyways...go to Frontera...get a Coin Margarita...order some guac and tacos....side of beans...and party the night away!',\n",
       "    4,\n",
       "    2,\n",
       "    1,\n",
       "    0,\n",
       "    'N',\n",
       "    'AqgG-1aD6JYj9D6OmBWO3w')]],\n",
       " [[('7/20/2009',\n",
       "    'qUuWiHuCxiQv6hMhAjQkSw',\n",
       "    'Ze1X-938U69gIYJ_nf8X9Q',\n",
       "    \"Love Carnivale! It's an amazing space with gorgeous color! I adore the entire vibe there! Some favorites (don't have the official names memorized) -Braised beef on a plaintain chip with a yummy zingy sauce drizzled on top -The skirt steak with rice and a bunch of different sauces pooled on the plate allow for great acidity -Mango margarita was thick and tasted amazing but a bit strong on the liquor (a pro if that's your preference) **The mojitos are pushed by the restaurant but my mother had one and it was so full of leaves she said it felt like she was drinking out of a puddle and it was sort of gross..maybe it was whoever made it that night so look around to see if anyone else has one (they surely will) and go from there Great place for dinner or after work drinks...great for groups!\",\n",
       "    5,\n",
       "    0,\n",
       "    0,\n",
       "    0,\n",
       "    'N',\n",
       "    'sfWMOqUEp8S2adDeJp7Kzg')]],\n",
       " [[('12/6/2011',\n",
       "    'iIk',\n",
       "    'E2_ChSKVO5Iv4aX5u8eKPA',\n",
       "    \"The salads are out of this world or just pretty awesome, depending on who's making them. Chicken is always bomb.\",\n",
       "    4,\n",
       "    0,\n",
       "    0,\n",
       "    0,\n",
       "    'N',\n",
       "    'juop6_3dLfPDo-un-ZuXrg')]],\n",
       " [[('2/21/2008',\n",
       "    'ENxz8QFRT',\n",
       "    'LBPW5Q5HonNDSkziNFE-Cw',\n",
       "    \"Fun and cool atmosphere pluse great food. \\xa0I've been twice - once a party for two and the other time with a large group. \\xa0Both times I've had excellent service and fabulous food. \\xa0I had the skirt steak last time and ate the entire thing (even after having bites of several appetizers). \\xa0Drinks were great too!\",\n",
       "    4,\n",
       "    0,\n",
       "    0,\n",
       "    0,\n",
       "    'N',\n",
       "    'sfWMOqUEp8S2adDeJp7Kzg')]],\n",
       " [[('2/14/2007',\n",
       "    'zy7OhaZAt93uLK8X5lMiHg',\n",
       "    'liDy_VOjCGwHeN1t5HT6bg',\n",
       "    \"Beer - LOVE! Salads - I don't know what they put on their house salad, but I could eat it every day! Pizza in house - good Pizza to go - TERRIBLE. \\xa0Ugh, it's like it's not even from the same place. Overall - it's not Chicago style, but it's gooood\",\n",
       "    4,\n",
       "    0,\n",
       "    1,\n",
       "    0,\n",
       "    'N',\n",
       "    'Z2nOMPedr7XYhgYhILJjEA')]],\n",
       " [[('6/27/2010',\n",
       "    '7PQM3tb0jzNsRHl7OtPwGA',\n",
       "    'D9U7HZ_j90E0wiGjGLN0Zg',\n",
       "    \"We've been back to Gilt Bar a couple more times and have not liked the food and subsequently the bill. \\xa0It's just not very flavorful or the right flavors, and the prices are too high for mediocre food. \\xa0The duck confit pasta tasted a lot like sweet jarred pickles. \\xa0We never left feeling good about dining there. \\xa0Everything needs more punch. \\xa0It is nice that they have outdoor seating, and the service is friendly.\",\n",
       "    2,\n",
       "    1,\n",
       "    0,\n",
       "    0,\n",
       "    'N',\n",
       "    'sDYjKyI_67eUhFAqVneYjA')]],\n",
       " [[('8/25/2010',\n",
       "    'M8t-EpUXgZ0YJ9s7pW0fNw',\n",
       "    'BHySTDCBln5JY7lbMK6FoQ',\n",
       "    'Thank you Groupon. \\xa0Back to Las Tablas, a hop, skip, and jump away from home, called ahead and with no wait, we trekked on down. \\xa0Arrived, seated and pleasantly greeted by the same lady who was our server the previous time in December. \\xa0It was a delight that she was our server, but the maraschino on the sundae was that a few thousand customers later, she recognized us! One mojito, two glasses of pinot noir, and a combination platter for each of us and we were fully satisfied. \\xa0Lighting was perfect and actually more lit than before, but still sultry, dim, and sexy, though (hee, hee) not as much as my latin lover.',\n",
       "    4,\n",
       "    1,\n",
       "    1,\n",
       "    1,\n",
       "    'N',\n",
       "    '2WoMT3wSpp9vxZeTv6u-cw')]],\n",
       " [[('2/6/2012',\n",
       "    '473ULP5Y1G4eIfGfC',\n",
       "    'Laoueueg7FpDi6cKNcr1fQ',\n",
       "    \"Huge selection of vegetarian and vegan foods! All of which have been delicious so far, by the way. Their menu is so huge, it is safe to say you could be a regular and still need a few weeks or months to try everything. I was pleased with their breakfast selections as well, which had many egg free options, which is oftentimes an obstacle even at other vegetarian spots. I wish there was more parking but the place is always bustling, and it is safe to say anyone from the Chicago area is used to the fact that there's generally limited parking in the city, period. That is certainly never a detractor for me, I drive to the Diner all the way from the northwest suburbs and I'd walk several blocks if I had to in order to get a bite to eat here. Be forewarned, everyone loves this place, it's always full, but in general I've managed to nab a spot to sit every time I have come here, whether outside or inside. The deserts are phenomenal, their portion sizes are generous, and they have a great beer selection too.\",\n",
       "    5,\n",
       "    0,\n",
       "    0,\n",
       "    0,\n",
       "    'N',\n",
       "    'o54U2VkQama8FI30qDkWvw')]],\n",
       " [[('10/24/2010',\n",
       "    'FOEMpnqlbg90qxP',\n",
       "    'OPTu84OY8nY8Hsf0FnQctg',\n",
       "    \"I've never had the food, but I hear it's good. My favorite time to go to The Bad Apple is late at night. It's nice to finish off the night with a treat, and they have most any drink you could want. It's a big place, and the staff is helpful and friendly. I don't go there often, mostly because I don't identify with the crowd, but they're interesting to watch, especially at around closing time when the young bachelors in the room start making more and more desperate moves.\",\n",
       "    4,\n",
       "    0,\n",
       "    0,\n",
       "    0,\n",
       "    'N',\n",
       "    'GEpXn9rtTMtIj5NsGFiNQw')]],\n",
       " [[('12/21/2008',\n",
       "    'CFPjzJwRO5b565qduYROPA',\n",
       "    '4rllndtbWasmhbKpa6YLww',\n",
       "    \"You really cannot beat the margarita special at this place, especially since it's half price two days a week (Tues and Thurs). I'm not a big fan of eating entrees at Mexican restaurants, although every once in a while I do (too much cheese and tortilla gets to me). But I love going later in the evening, getting margaritas, appetizers (they are generous with their guacamole portions unlike many places), and dessert (love their flan). The service is really good (even though they probably aren't thrilled that we aren't ordering actual meals), and it's a really cute and cozy place.\",\n",
       "    4,\n",
       "    2,\n",
       "    2,\n",
       "    0,\n",
       "    'N',\n",
       "    'xXSMc3pDWTRQHLgjBTtTUg')]],\n",
       " [[('6/18/2012',\n",
       "    'HDg1wixlz2KtFc9AM6DWEA',\n",
       "    'G9kueKv0W5_InoEkVl7c3A',\n",
       "    \"Well hot diggity dang!! I have to say CHI town is the bomb when it comes to breakfrast and The Bongo Room is second to none. \\xa0Wifee says French Toast Omelettes are better but hey, when you look at the overall package Bongo plays the congo like Mongo all the way!!!! Good God Almighty I'm lovin it!!! Pretzel Pancakes!!!! ayyyyyyyyyyyyyy (Fonz)\",\n",
       "    5,\n",
       "    0,\n",
       "    0,\n",
       "    1,\n",
       "    'N',\n",
       "    '_b69OdBNLhysN1jFlYNQiA')]],\n",
       " [[('2/19/2012',\n",
       "    'YQoX2kBnZSP1VjqLVg6wxw',\n",
       "    'njVRiwWNFZlswOee1lcMNg',\n",
       "    'Excellent time!! Emma the server was great to us! Food was amazing!',\n",
       "    5,\n",
       "    0,\n",
       "    0,\n",
       "    0,\n",
       "    'N',\n",
       "    'sDYjKyI_67eUhFAqVneYjA')]],\n",
       " [[('9/3/2012',\n",
       "    'VASwtIH1BPDCt65mnjawMg',\n",
       "    'XVvbDeYn5Dk-MteNHwjC7Q',\n",
       "    'Would love to try this place again for the sushi. Three stars for the savory food.',\n",
       "    3,\n",
       "    0,\n",
       "    0,\n",
       "    0,\n",
       "    'N',\n",
       "    '8d_DiHWB-pjBVW3a7D8EWg')]],\n",
       " [[('1/4/2012',\n",
       "    'Pp881HlTPw27d-vEf7AAng',\n",
       "    'kv2eBoS_nHGGcx2uUJQ4cw',\n",
       "    'This...man...knows...food.... Any sandwich is devine, the soups are equally delicious, and the churros are off the chain good. Compliment your lunch by trying one of his chocolate beverages. They\\'re full of deep harmonious flavor. I also recently went for breakfast, again Rick\\'s food does not dissapoint. I think he could take taco bell\\'s menu, change nothing, and \"I would walk 500 miles *sing the tuen damn you\" and give T-bell 5 stars. Call me a fanboy, but I love this place. Serve your own water, thank you, I will. I drink like Don Rickles insults, which is a lot. Nice to have a place give you a change of pace. Not to mention it probably helps the servers out a little. Just go here already. It\\'s good for you. In one way or another.',\n",
       "    5,\n",
       "    0,\n",
       "    0,\n",
       "    0,\n",
       "    'N',\n",
       "    'jGiKIJCVLZHXQDSNnSLPsw')]],\n",
       " [[('1/30/2012',\n",
       "    'ha-HN2DOeJ39idb4-m5sfQ',\n",
       "    'adZaXh_B0esDq_XQLJwkVw',\n",
       "    \"What can I say that hasn't already been said? Incredible beer selection, really knowledgeable waiters/waitresses/bartenders, and great food. The CB&J is crave-able and the duck rueben is also really good. Just make sure you ask them for their fries instead of the chips that come with those. The skinny little fries they make are worth eating. And they come with a delicious garlic aioli dipping sauce. Yes, It gets crazy busy and really loud on the weekends and some weeknights, so if that's not your thing avoid it at those times. But if you're willing to wait for a table for a bit you will not be disappointed.\",\n",
       "    5,\n",
       "    0,\n",
       "    0,\n",
       "    0,\n",
       "    'N',\n",
       "    'sR4EOfPuI-at41uIxIZPhw')]],\n",
       " [[('9/16/2010',\n",
       "    'x9rMdZybEsVxN2MogfkzAA',\n",
       "    'JYDVoFrHk1CHGOCCo7TsJQ',\n",
       "    \"Wow. Fit for foodies. The vibe: The brick building's large windows give a glimpse into the dinning room where retro pendant lamps warmly light a horse shoe of wood communal tables, large pig images (a not so subtle hint of their specialty), and unpretentious but helpful servers. It feels like you're eating at the butcher's home if he had access to local farm goods and a whole bunch of semi-artsy successful friends. It's a bit loud but in a good way. To drink: Foundary dirty bastard beer: dark, semi-heavy with a chocolate aftertaste. The Czar: dark like the above but not aftertaste. To me, not as complex and therefore not as yummy. The wine list also is comprehensive. To eat: (served family style so it's easy to try everything) Corn: cream with delicious cream fresh and paprika. Each kernel exposed sweetness in your mouth. Beets with ricotta: the cheese! Sweetest ricotta I've ever had. The beets exceptional too. Suckling pig: I don't order pork ever and this was amazing. Served with kale, oranges and pine nuts this dish is a must. Crunchy but not greasy. Frits with two eggs: pipping hot fries with eggs, who ever thought of such a wonderful idea and why isn't this available everywhere?! Sausage (blanc?): mustard potatoes and cooked grapes. Probably the weakest of the lot but the standards are pretty high. Lavender apple crisp with almond ice cream: Wow. Crispy crumble and moist apple pieces. The ice cream has a thick creamy texture. Divine. \\xa0 In sum, a beautiful meal.\",\n",
       "    5,\n",
       "    0,\n",
       "    0,\n",
       "    0,\n",
       "    'N',\n",
       "    'LMaoM2Ue2BR_HI9ba3JsZg')]],\n",
       " [[('12/18/2011',\n",
       "    '5H1R6TQTZ4AuFeyxYeFhAw',\n",
       "    'MI7TjNlOSHsPbf69VTqrOA',\n",
       "    'We really enjoyed our experience here lats night. We have had many tasting menus in the past, all creative, all pushing the limits of our senses and understanding of food. Last night, we \\xa0enjoyed \"the collection\" and were not let down. The team at Graham Elliott tested and tempted our tastebuds with creative combinations, perfectly cooked food and \"all\" enjoyed. There was not a single dish on the menu that didn\\'t work for us. \\xa0The service was excellent, the environment was casual, relaxing and unassuming. Why the 4 stars and not 5? Wine. We did the pairing and I was woefully disappointed. Nothing was bad, but nothing really stood out. I felt about halfway through that this pairing menu was the \"value\" menu, maybe their goal was to let us experience regions we may not have tried on our own, but they should have stated that. I still feel let down by it and while I will certainly be back, I most definitely will be skipping the wine pairing. Last comment - those of you who complained about portion size, I ask, did you leave hungry? There is no way. Try the 48oz Strip Steak at your local Outback and leave the seats at Graham for the rest of us.',\n",
       "    4,\n",
       "    0,\n",
       "    0,\n",
       "    0,\n",
       "    'N',\n",
       "    'LlHEzxQTiiLJokn2tli35A')]],\n",
       " [[('4/18/2009',\n",
       "    'J-WjHEIpieCo9i1YhZq8OA',\n",
       "    'A3i3XMh0iqGBEMHRqxAygQ',\n",
       "    \"This is everything I don't like in a restaurant. Trendy. Pretentious. Over priced. Small portions. The one thing I will say is that the fish was fresh. But the rolls are TINY. And it was nothing special at all. I really don't get the hype. Toro remains best sushi in the city!\",\n",
       "    2,\n",
       "    0,\n",
       "    0,\n",
       "    0,\n",
       "    'N',\n",
       "    'mlhHPnHmjO2_ypcP5Vc9Zw')]],\n",
       " [[('3/8/2012',\n",
       "    'HE7I8sAigl-0oy4-kfYtCA',\n",
       "    'buSmgMa-btyLX1SAWmwmrg',\n",
       "    'Alinea... Our vacation dinner took place here nearly 4 months ago. However the memories of the flavor profiles still permeate my prefrontal lobe. I do not use the term vacation dinner lightly - this is truly an experience that will transcend culinary predispositions as well as American Express cards. Defining this dining experience is not something I can jot down in a few hundred words in some online review. \\xa0Rather it is simply the experience of enjoying something that was designed, no destined, to be a work of art. I have eaten from delis, food carts, and extremely fine dining establishments across the United States, this was just distinctly different. My Beautiful Wife - in the awe of interesting meals coming faster than Nordstrom Rack Shoes Clearances, could not stop photographing and commenting on the distinctiveness of each dish. \\xa0However, I sat awestruck - wondering how someone can sit around and think of an experience remotely similar to this culinary journey. We of course had the staples, \\'hot potato - cold potato\\' and the desert that could easily be described as the next act at Blue Man Group. \\xa0But it was the detail, no the attention to detail, that had me wondering. \\xa0Where does Grant get this inspiration? \\xa0When did the thought putting a pillow of pine-scented air on my table with a beautiful bowl enter his mind? The wine was wondrous. \\xa0Please don\\'t indulge without it. \\xa0It should not be an optional component. \\xa0This interface with the meal was critical to my understanding of the dish as well as my propensity of getting \\'more\\' later on in the evening (thanks Grant!) I can easily close this review by writing a cliché that each true \"foodie\" should experience the wonder that is Alinea. \\xa0What I recommend is, hell, Go - spend the money. \\xa0I can promise you won\\'t be disappointed.',\n",
       "    5,\n",
       "    6,\n",
       "    2,\n",
       "    9,\n",
       "    'N',\n",
       "    'pbEiXam9YJL3neCYHGwLUA')]],\n",
       " [[('3/10/2010',\n",
       "    '8Smu87xZLy5N69KxeQu2zQ',\n",
       "    'DUXbIZ1xCe0drDh_CQ1KwA',\n",
       "    'I am addicted to this place.. such a cool atomsphere, delicious menu, and great people watching. \\xa0We went for dinner and then another time after a game for drinks and apps. \\xa0Paul never disappoints with his menu or design.. indulge in the pork rinds.. it is hard not to eat them all!',\n",
       "    5,\n",
       "    0,\n",
       "    0,\n",
       "    0,\n",
       "    'N',\n",
       "    'LMaoM2Ue2BR_HI9ba3JsZg')]],\n",
       " [[('2/21/2010',\n",
       "    'e4dvK',\n",
       "    'CrLHwriGbOLtOB9TjtoGPw',\n",
       "    \"We came here for our 3 year anniversary and was pleasantly surprised at the efforts to personalize our experience. \\xa0I wasn't expecting a fancy, stuffy place would take the time to print personalized menus with or to bring a special dessert saying Happy 3rd anniversary. \\xa0The waitstaff was amazing, they were always available for questions and loosened up with jokes once they realized we were there to have a good time. We went for the Chef's Collection with Wayagu beef add-on, which was perfection! \\xa0Each plate keep getting better and better, with both beef plates being the highlight of the meal. \\xa0Desserts were to die for and we stumbled out of Tru with dazed looks of satisfaction along with baked treats for breakfast the next morning. \\xa0 What an amazing experience.\",\n",
       "    5,\n",
       "    1,\n",
       "    0,\n",
       "    0,\n",
       "    'N',\n",
       "    'AkfSndWBxnTn-LpmiL8aLA')]]]"
      ]
     },
     "execution_count": 97,
     "metadata": {},
     "output_type": "execute_result"
    }
   ],
   "source": [
    "rating_by_date"
   ]
  },
  {
   "cell_type": "code",
   "execution_count": 90,
   "metadata": {},
   "outputs": [
    {
     "data": {
      "text/plain": [
       "'3.31.1'"
      ]
     },
     "execution_count": 90,
     "metadata": {},
     "output_type": "execute_result"
    }
   ],
   "source": [
    "################ do not run #############################\n",
    "#pd.DataFrame(rating_by_date).to_csv('filename.csv', index=False)\n",
    "sqlite3.sqlite_version"
   ]
  },
  {
   "cell_type": "code",
   "execution_count": 117,
   "metadata": {},
   "outputs": [
    {
     "name": "stdout",
     "output_type": "stream",
     "text": [
      "--- 2.3169100284576416 seconds ---\n",
      "--- 2.198986053466797 seconds ---\n",
      "--- 2.153640031814575 seconds ---\n"
     ]
    },
    {
     "ename": "KeyboardInterrupt",
     "evalue": "",
     "output_type": "error",
     "traceback": [
      "\u001b[0;31m---------------------------------------------------------------------------\u001b[0m",
      "\u001b[0;31mKeyboardInterrupt\u001b[0m                         Traceback (most recent call last)",
      "\u001b[0;32m<ipython-input-117-2b98c376a4bd>\u001b[0m in \u001b[0;36m<module>\u001b[0;34m\u001b[0m\n\u001b[1;32m     13\u001b[0m                                   \u001b[0mAND\u001b[0m \u001b[0mREVIEWID\u001b[0m \u001b[0;34m!=\u001b[0m \u001b[0;34m'{}'\u001b[0m\u001b[0;34m\u001b[0m\u001b[0;34m\u001b[0m\u001b[0m\n\u001b[1;32m     14\u001b[0m                                   GROUP BY RESTAURANTID\"\"\".format(resid,revdate,reviewid)\n\u001b[0;32m---> 15\u001b[0;31m         \u001b[0mcursor\u001b[0m\u001b[0;34m.\u001b[0m\u001b[0mexecute\u001b[0m\u001b[0;34m(\u001b[0m\u001b[0mquery_rating_by_date\u001b[0m\u001b[0;34m)\u001b[0m\u001b[0;34m\u001b[0m\u001b[0;34m\u001b[0m\u001b[0m\n\u001b[0m\u001b[1;32m     16\u001b[0m         \u001b[0mrows\u001b[0m \u001b[0;34m=\u001b[0m \u001b[0mcursor\u001b[0m\u001b[0;34m.\u001b[0m\u001b[0mfetchall\u001b[0m\u001b[0;34m(\u001b[0m\u001b[0;34m)\u001b[0m\u001b[0;34m\u001b[0m\u001b[0;34m\u001b[0m\u001b[0m\n\u001b[1;32m     17\u001b[0m         \u001b[0mrating_by_date\u001b[0m\u001b[0;34m.\u001b[0m\u001b[0mappend\u001b[0m\u001b[0;34m(\u001b[0m\u001b[0;34m[\u001b[0m\u001b[0mreviewid\u001b[0m\u001b[0;34m,\u001b[0m\u001b[0mrows\u001b[0m\u001b[0;34m]\u001b[0m\u001b[0;34m)\u001b[0m\u001b[0;34m\u001b[0m\u001b[0;34m\u001b[0m\u001b[0m\n",
      "\u001b[0;31mKeyboardInterrupt\u001b[0m: "
     ]
    }
   ],
   "source": [
    "rating_by_date = []\n",
    "\n",
    "for reviewid in df_emotion[\"reviewID\"]:\n",
    "    start_time = time.time()\n",
    "\n",
    "    if not (reviewid in lst_done):\n",
    "        resid = list(df_emotion[df_emotion[\"reviewID\"]==reviewid][\"restaurantID\"])[0]\n",
    "        revdate = list(df_emotion[df_emotion[\"reviewID\"]==reviewid][\"date\"])[0]\n",
    "        query_rating_by_date = \"\"\"SELECT AVG(RATING)\n",
    "                                  FROM REVIEW \n",
    "                                  WHERE restaurantID LIKE '{}'\n",
    "                                  AND DATE <= '{}'\n",
    "                                  AND REVIEWID != '{}'\n",
    "                                  GROUP BY RESTAURANTID\"\"\".format(resid,revdate,reviewid)\n",
    "        cursor.execute(query_rating_by_date)\n",
    "        rows = cursor.fetchall()\n",
    "        rating_by_date.append([reviewid,rows])\n",
    "        print(\"--- %s seconds ---\" % (time.time() - start_time))\n",
    "\n",
    "        #i = len(rating_by_date)\n",
    "        #if (i%1000==0):\n",
    "        #    print(i)"
   ]
  },
  {
   "cell_type": "code",
   "execution_count": 116,
   "metadata": {},
   "outputs": [
    {
     "data": {
      "text/plain": [
       "[['8q6yRsty4hxvDRnUjwAq9Q', [(3.990566037735849,)]],\n",
       " ['0xUuB58cdwMIc2teb2HsgQ', [(4.010416666666667,)]]]"
      ]
     },
     "execution_count": 116,
     "metadata": {},
     "output_type": "execute_result"
    }
   ],
   "source": [
    "rating_by_date \n"
   ]
  },
  {
   "cell_type": "code",
   "execution_count": 181,
   "metadata": {},
   "outputs": [],
   "source": [
    "connect = connect_db(\"/Users/jamesfyfe/summer vac misc/yelpResData.db\")\n",
    "connect.text_factory = lambda x: str(x, 'iso-8859-1')\n",
    "\n",
    "cursor = connect.cursor()\n",
    "\n",
    "\n",
    "rating_by_date = []\n",
    "#full_restaurant_and_reviews = []\n",
    "res_ids = tuple(df_emotion[\"restaurantID\"])\n",
    "\n",
    "query_rating_by_date = \"\"\"SELECT *\n",
    "                          FROM REVIEW \n",
    "                          WHERE restaurantID in {}\n",
    "                          \n",
    "                          \"\"\".format(res_ids)\n",
    "cursor.execute(query_rating_by_date)\n",
    "rows = cursor.fetchall()\n",
    "\n"
   ]
  },
  {
   "cell_type": "code",
   "execution_count": 278,
   "metadata": {},
   "outputs": [],
   "source": [
    "all_reviews = pd.DataFrame(rows)"
   ]
  },
  {
   "cell_type": "code",
   "execution_count": 295,
   "metadata": {},
   "outputs": [
    {
     "name": "stderr",
     "output_type": "stream",
     "text": [
      "/Users/jamesfyfe/miniconda3/lib/python3.7/site-packages/ipykernel_launcher.py:9: SettingWithCopyWarning: \n",
      "A value is trying to be set on a copy of a slice from a DataFrame\n",
      "\n",
      "See the caveats in the documentation: https://pandas.pydata.org/pandas-docs/stable/user_guide/indexing.html#returning-a-view-versus-a-copy\n",
      "  if __name__ == '__main__':\n"
     ]
    },
    {
     "name": "stdout",
     "output_type": "stream",
     "text": [
      "1\n"
     ]
    }
   ],
   "source": [
    "#all_reviews.rename(columns={0: 'date', 1: 'reviewID', 2:'reviewerID', 3: 'review', 4: 'rating', 5: 'usefulCount', 6:'coolCount', 7:'funnyCount', 8: 'flagged',9: 'restaurantID'}, inplace=True)\n",
    "#all_reviews.date = pd.to_datetime(all_reviews.date)\n",
    "k = 0\n",
    "for i in range (0,len(all_reviews)):\n",
    "    if all_reviews[\"date\"][i].startswith(\"Update - \"):\n",
    "        k+=1\n",
    "        all_reviews[\"date\"][i] = all_reviews[\"date\"][i].strip(\"Update - \")\n",
    "    elif all_reviews[\"date\"][i].startswith(\"Updated - \"):\n",
    "        all_reviews[\"date\"][i] = all_reviews[\"date\"][i].strip(\"Updated - \")\n",
    "        k+=1\n",
    "print(k)\n",
    "all_reviews.date = pd.to_datetime(all_reviews.date)\n"
   ]
  },
  {
   "cell_type": "code",
   "execution_count": 299,
   "metadata": {},
   "outputs": [],
   "source": [
    "#all_reviews = all_reviews.reset_index(drop=True)\n",
    "#df_emotion = df_emotion.reset_index(drop=True)\n",
    "review_ids = df_emotion[\"reviewID\"]\n",
    "df_previous_rev = pd.DataFrame()\n",
    "\n",
    "for revid in review_ids:\n",
    "    restaurant = list(all_reviews[all_reviews[\"reviewID\"]==revid][\"restaurantID\"])[0]\n",
    "    date = list(all_reviews[all_reviews[\"reviewID\"]==revid][\"date\"])[0]\n",
    "   # print(date)\n",
    "    df_temp = all_reviews[(all_reviews[\"restaurantID\"]==restaurant) &\n",
    "                          (all_reviews[\"flagged\"]=='N') &\n",
    "                          (all_reviews[\"date\"]<=date) &\n",
    "                          (all_reviews[\"reviewID\"]!=revid)]\n",
    "    df_temp = df_temp.sort_values(\"date\", ascending=False)[:10]\n",
    "    df_temp[\"originalRevID\"] = revid\n",
    "    #df_temp = pd.DataFrame(all_reviews[all_reviews[\"restaurantID\"]==restaurant])\n",
    "   \n",
    "    df_previous_rev = pd.concat([df_previous_rev, df_temp])"
   ]
  },
  {
   "cell_type": "code",
   "execution_count": 302,
   "metadata": {},
   "outputs": [
    {
     "data": {
      "text/plain": [
       "16293"
      ]
     },
     "execution_count": 302,
     "metadata": {},
     "output_type": "execute_result"
    }
   ],
   "source": [
    "len(df_previous_rev[\"originalRevID\"].unique())"
   ]
  },
  {
   "cell_type": "code",
   "execution_count": 303,
   "metadata": {},
   "outputs": [],
   "source": [
    "#df_previous_rev.to_csv('previous_reviews.csv', index=False)\n"
   ]
  },
  {
   "cell_type": "code",
   "execution_count": null,
   "metadata": {},
   "outputs": [],
   "source": []
  }
 ],
 "metadata": {
  "kernelspec": {
   "display_name": "Python 3",
   "language": "python",
   "name": "python3"
  },
  "language_info": {
   "codemirror_mode": {
    "name": "ipython",
    "version": 3
   },
   "file_extension": ".py",
   "mimetype": "text/x-python",
   "name": "python",
   "nbconvert_exporter": "python",
   "pygments_lexer": "ipython3",
   "version": "3.7.6"
  }
 },
 "nbformat": 4,
 "nbformat_minor": 4
}
