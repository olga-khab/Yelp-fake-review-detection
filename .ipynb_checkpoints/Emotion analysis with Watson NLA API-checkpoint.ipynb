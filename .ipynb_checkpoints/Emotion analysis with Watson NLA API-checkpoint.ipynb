{
 "cells": [
  {
   "cell_type": "markdown",
   "metadata": {},
   "source": [
    "The first step is to find reviewer ids that commonly occur together e.g. review the same hotels"
   ]
  },
  {
   "cell_type": "code",
   "execution_count": 19,
   "metadata": {},
   "outputs": [],
   "source": [
    "import pandas as pd\n",
    "import random\n",
    "import seaborn as sns\n",
    "import numpy as np\n",
    "import matplotlib.pyplot as plt\n",
    "from sklearn.metrics import accuracy_score\n",
    "from sklearn.linear_model import LogisticRegression\n",
    "from sklearn.model_selection import train_test_split\n",
    "from sklearn.ensemble import RandomForestClassifier\n",
    "from sklearn import preprocessing\n",
    "from sklearn.metrics import classification_report, confusion_matrix\n",
    "\n",
    "import statsmodels.api as sm\n",
    "from scipy import stats"
   ]
  },
  {
   "cell_type": "code",
   "execution_count": 20,
   "metadata": {},
   "outputs": [],
   "source": [
    "# connect to the sqlite database\n",
    "import sqlite3\n",
    "\n",
    "def connect_db(db_file):\n",
    "    conn = None\n",
    "    try:\n",
    "        conn = sqlite3.connect(db_file)\n",
    "    except Error as e:\n",
    "        print(e)\n",
    "\n",
    "    return conn\n",
    "\n",
    "conn = connect_db(\"/Users/jamesfyfe/summer vac misc/yelpResData.db\")\n"
   ]
  },
  {
   "cell_type": "code",
   "execution_count": 21,
   "metadata": {},
   "outputs": [],
   "source": [
    "#### import the smaller subset data that has emotions of the actual review #########\n",
    "df_emotion_and_LIWC = pd.read_csv(\"LIWC_and_emotions.csv\")\n",
    "#df_emotion_and_LIWC = pd.read_csv(\"LIWC_and_emotions.csv\")\n",
    "pos = (df_emotion_and_LIWC[df_emotion_and_LIWC[\"flagged\"]==\"Y\"])\n",
    "neg= (df_emotion_and_LIWC[df_emotion_and_LIWC[\"flagged\"]==\"N\"])\n",
    "df_neg_only = neg.sample(n=1500, random_state =1)\n",
    "df_pos_only = pos.sample(n=1500, random_state =1)\n",
    "\n",
    "\n",
    "df_emotion = pd.concat([df_neg_only, df_pos_only])\n",
    "rev_id_list = list(df_emotion[\"reviewID\"])"
   ]
  },
  {
   "cell_type": "code",
   "execution_count": 22,
   "metadata": {},
   "outputs": [
    {
     "name": "stderr",
     "output_type": "stream",
     "text": [
      "/Users/jamesfyfe/miniconda3/lib/python3.7/site-packages/IPython/core/interactiveshell.py:3146: DtypeWarning: Columns (4,5,6,7) have mixed types.Specify dtype option on import or set low_memory=False.\n",
      "  interactivity=interactivity, compiler=compiler, result=result)\n"
     ]
    }
   ],
   "source": [
    "#### import the past reviews set and match it with the subset ##########\n",
    "df_past = pd.read_csv(\"LIWC2015 Results (previous_reviews.csv).csv\")\n",
    "df_past.rename(columns={'K':'originalRevID','A': 'date', 'B': 'reviewID', 'C':'reviewerID', 'D': 'review', 'E': 'rating', 'F':'usefulCount', 'G':'coolCount','H':'funnyCount', 'I': 'flagged','J': 'restaurantID'}, inplace=True)\n",
    "df_past=df_past.drop(0)\n",
    "df_over_9 = df_past[df_past[\"WC\"]>9]\n",
    "\n",
    "df_over_9 = df_over_9[df_over_9[\"originalRevID\"].isin(rev_id_list)]\n"
   ]
  },
  {
   "cell_type": "code",
   "execution_count": 12,
   "metadata": {},
   "outputs": [],
   "source": [
    "'''import numpy as np\n",
    "import random\n",
    "np.random.seed(1)\n",
    "conn.text_factory = lambda x: str(x, 'iso-8859-1')\n",
    "\n",
    "# get one sample review to test the connection\n",
    "def get_data(query):  \n",
    "    cur = conn.cursor()\n",
    "    # get all positives\n",
    "    cur.execute(query)\n",
    "    reviews = []\n",
    "    rows = cur.fetchall()\n",
    "    for row in rows:\n",
    "        reviews.append(row)\n",
    "    return reviews\n",
    "#for row in rows:\n",
    "#    print(row)\n",
    "cur = conn.cursor()\n",
    "cur.execute(\"SELECT * FROM review WHERE flagged LIKE 'Y' limit 1\")\n",
    "rows = cur.fetchall()\n",
    "\n",
    "query_pos = \"SELECT * FROM review WHERE flagged LIKE 'Y'\" \n",
    "query_neg = \"SELECT * FROM review WHERE flagged LIKE 'N'\" \n",
    "# get review text\n",
    "rows_pos = get_data(query_pos)\n",
    "rows_neg = get_data(query_neg)\n",
    "\n",
    "rows_neg = random.sample(rows_neg, len(rows_pos))\n",
    "'''\n",
    "\n"
   ]
  },
  {
   "cell_type": "code",
   "execution_count": 13,
   "metadata": {},
   "outputs": [],
   "source": [
    "'''reviews = (rows_pos + rows_neg)\n",
    "random.shuffle(reviews)\n",
    "\n",
    "#reviews = list(reviews)\n",
    "for i in range (0, len(reviews)):\n",
    "    reviews[i] = list(reviews[i])\n",
    "    reviews[i][3] = reviews[i][3].replace('Â\\xa0', '')'''"
   ]
  },
  {
   "cell_type": "code",
   "execution_count": 175,
   "metadata": {},
   "outputs": [],
   "source": [
    "'''import csv\n",
    "\n",
    "with open(\"YelpResReviews.csv\", 'w') as file:\n",
    "    wr = csv.writer(file, quoting=csv.QUOTE_ALL, delimiter=',')\n",
    "    wr.writerow([\"date\",\"reviewID\",\"reviewerID\",\"reviewContent\",\"rating\",\"usefulCount\",\"coolCount\",\"funnyCount\",\"flagged\",\"restaurantID\"])\n",
    "    for i in range (0,len(reviews)):\n",
    "        #for j in range (0,10):\n",
    "        wr.writerow(reviews[i])\n",
    "        #wr.writerow([x[j] for x in reviews[i]])'''"
   ]
  },
  {
   "cell_type": "code",
   "execution_count": 24,
   "metadata": {},
   "outputs": [
    {
     "data": {
      "text/plain": [
       "'response = natural_language_understanding.analyze(\\n    text=reviews[0][3],\\n    features=Features(\\n        entities=EntitiesOptions(emotion=True, limit=2)\\n    )).get_result()\\n\\nprint(json.dumps(response, indent=2))'"
      ]
     },
     "execution_count": 24,
     "metadata": {},
     "output_type": "execute_result"
    }
   ],
   "source": [
    "import json\n",
    "from ibm_watson import NaturalLanguageUnderstandingV1\n",
    "from ibm_cloud_sdk_core.authenticators import IAMAuthenticator\n",
    "from ibm_watson.natural_language_understanding_v1 import Features, CategoriesOptions, EmotionOptions, EntitiesOptions\n",
    "\n",
    "authenticator = IAMAuthenticator('qK3W263cJ9IAmltdir-3IhfhEkb6Z5KyiDx-M9Jhm75P')\n",
    "natural_language_understanding = NaturalLanguageUnderstandingV1(\n",
    "    version='2020-08-01',\n",
    "    authenticator=authenticator\n",
    ")\n",
    "\n",
    "natural_language_understanding.set_service_url('https://api.au-syd.natural-language-understanding.watson.cloud.ibm.com/instances/49a00c0c-2c73-4ca1-bb57-b762514264e0')\n",
    "\n",
    "'''response = natural_language_understanding.analyze(\n",
    "    text=reviews[0][3],\n",
    "    features=Features(\n",
    "        entities=EntitiesOptions(emotion=True, limit=2)\n",
    "    )).get_result()\n",
    "\n",
    "print(json.dumps(response, indent=2))'''"
   ]
  },
  {
   "cell_type": "code",
   "execution_count": null,
   "metadata": {},
   "outputs": [
    {
     "name": "stderr",
     "output_type": "stream",
     "text": [
      "ERROR:root:upstream connect error or disconnect/reset before headers. reset reason: connection termination\n",
      "Traceback (most recent call last):\n",
      "  File \"/Users/jamesfyfe/miniconda3/lib/python3.7/site-packages/ibm_cloud_sdk_core/base_service.py\", line 225, in send\n",
      "    response.status_code, http_response=response)\n",
      "ibm_cloud_sdk_core.api_exception.ApiException: Error: upstream connect error or disconnect/reset before headers. reset reason: connection termination, Code: 503 , X-global-transaction-id: b475d664-7b5b-4268-8f4e-9b7534ea7ce1\n",
      "ERROR:root:unsupported text language: it\n",
      "Traceback (most recent call last):\n",
      "  File \"/Users/jamesfyfe/miniconda3/lib/python3.7/site-packages/ibm_cloud_sdk_core/base_service.py\", line 225, in send\n",
      "    response.status_code, http_response=response)\n",
      "ibm_cloud_sdk_core.api_exception.ApiException: Error: unsupported text language: it, Code: 400 , X-global-transaction-id: f27fd256-ed45-4766-a9f2-0447bfaea871\n",
      "ERROR:root:upstream connect error or disconnect/reset before headers. reset reason: connection termination\n",
      "Traceback (most recent call last):\n",
      "  File \"/Users/jamesfyfe/miniconda3/lib/python3.7/site-packages/ibm_cloud_sdk_core/base_service.py\", line 225, in send\n",
      "    response.status_code, http_response=response)\n",
      "ibm_cloud_sdk_core.api_exception.ApiException: Error: upstream connect error or disconnect/reset before headers. reset reason: connection termination, Code: 503 , X-global-transaction-id: ece23f3b-64f6-4b84-bdef-9aa65c4fa3ee\n",
      "ERROR:root:upstream connect error or disconnect/reset before headers. reset reason: connection termination\n",
      "Traceback (most recent call last):\n",
      "  File \"/Users/jamesfyfe/miniconda3/lib/python3.7/site-packages/ibm_cloud_sdk_core/base_service.py\", line 225, in send\n",
      "    response.status_code, http_response=response)\n",
      "ibm_cloud_sdk_core.api_exception.ApiException: Error: upstream connect error or disconnect/reset before headers. reset reason: connection termination, Code: 503 , X-global-transaction-id: 52ac724e-0fd5-475b-8c68-f08d0705fb9b\n",
      "ERROR:root:upstream connect error or disconnect/reset before headers. reset reason: connection termination\n",
      "Traceback (most recent call last):\n",
      "  File \"/Users/jamesfyfe/miniconda3/lib/python3.7/site-packages/ibm_cloud_sdk_core/base_service.py\", line 225, in send\n",
      "    response.status_code, http_response=response)\n",
      "ibm_cloud_sdk_core.api_exception.ApiException: Error: upstream connect error or disconnect/reset before headers. reset reason: connection termination, Code: 503 , X-global-transaction-id: 7904ecf4-a053-4752-98af-748f76771a34\n"
     ]
    }
   ],
   "source": [
    "time_adj_emotion_df = []\n",
    "from ibm_watson import ApiException\n",
    "\n",
    "i = 0\n",
    "exc = 0\n",
    "for index, row in df_over_9.iterrows():\n",
    "    #if i > 14601:\n",
    "    try:\n",
    "        response = natural_language_understanding.analyze(\n",
    "            text=row[\"review\"],\n",
    "            features=Features(emotion=EmotionOptions())).get_result()\n",
    "        arr = []\n",
    "        arr.append(response)\n",
    "        arr.append(row[\"originalRevID\"])\n",
    "        arr.append(row[\"reviewID\"])\n",
    "        time_adj_emotion_df.append(arr)\n",
    "            #print(i)\n",
    "    except ApiException as ex:\n",
    "        exc +=1\n",
    "        pass\n",
    "    i += 1"
   ]
  },
  {
   "cell_type": "code",
   "execution_count": 28,
   "metadata": {},
   "outputs": [
    {
     "data": {
      "text/plain": [
       "[[{'usage': {'text_units': 1, 'text_characters': 139, 'features': 1},\n",
       "   'language': 'en',\n",
       "   'emotion': {'document': {'emotion': {'sadness': 0.292643,\n",
       "      'joy': 0.261127,\n",
       "      'fear': 0.10958,\n",
       "      'disgust': 0.088567,\n",
       "      'anger': 0.112365}}}},\n",
       "  'XTgVp0QkXUJUnqprblt-3w',\n",
       "  'ctA2PdCJlF0KeCBsP'],\n",
       " [{'usage': {'text_units': 1, 'text_characters': 588, 'features': 1},\n",
       "   'language': 'en',\n",
       "   'emotion': {'document': {'emotion': {'sadness': 0.542694,\n",
       "      'joy': 0.662569,\n",
       "      'fear': 0.069506,\n",
       "      'disgust': 0.616414,\n",
       "      'anger': 0.076944}}}},\n",
       "  'XTgVp0QkXUJUnqprblt-3w',\n",
       "  'jwJTlc8qrBLpkYKt4CGmZg'],\n",
       " [{'usage': {'text_units': 1, 'text_characters': 294, 'features': 1},\n",
       "   'language': 'en',\n",
       "   'emotion': {'document': {'emotion': {'sadness': 0.025798,\n",
       "      'joy': 0.939005,\n",
       "      'fear': 0.008607,\n",
       "      'disgust': 0.006346,\n",
       "      'anger': 0.022255}}}},\n",
       "  'XTgVp0QkXUJUnqprblt-3w',\n",
       "  '1mKFAuJueo4cJ-o0cG3ssA'],\n",
       " [{'usage': {'text_units': 1, 'text_characters': 741, 'features': 1},\n",
       "   'language': 'en',\n",
       "   'emotion': {'document': {'emotion': {'sadness': 0.157338,\n",
       "      'joy': 0.621915,\n",
       "      'fear': 0.065345,\n",
       "      'disgust': 0.079734,\n",
       "      'anger': 0.047234}}}},\n",
       "  'XTgVp0QkXUJUnqprblt-3w',\n",
       "  '2J4AE24Wlu5XmeCLQP'],\n",
       " [{'usage': {'text_units': 1, 'text_characters': 140, 'features': 1},\n",
       "   'language': 'en',\n",
       "   'emotion': {'document': {'emotion': {'sadness': 0.104872,\n",
       "      'joy': 0.731628,\n",
       "      'fear': 0.034957,\n",
       "      'disgust': 0.041377,\n",
       "      'anger': 0.046039}}}},\n",
       "  'XTgVp0QkXUJUnqprblt-3w',\n",
       "  'OELXVjEu2pxNAuzLJ47hvA'],\n",
       " [{'usage': {'text_units': 1, 'text_characters': 1221, 'features': 1},\n",
       "   'language': 'en',\n",
       "   'emotion': {'document': {'emotion': {'sadness': 0.547057,\n",
       "      'joy': 0.609803,\n",
       "      'fear': 0.061412,\n",
       "      'disgust': 0.042572,\n",
       "      'anger': 0.06971}}}},\n",
       "  'XTgVp0QkXUJUnqprblt-3w',\n",
       "  '4QfSyAgTf6PSeYeIeuqALA'],\n",
       " [{'usage': {'text_units': 1, 'text_characters': 849, 'features': 1},\n",
       "   'language': 'en',\n",
       "   'emotion': {'document': {'emotion': {'sadness': 0.15001,\n",
       "      'joy': 0.653094,\n",
       "      'fear': 0.085223,\n",
       "      'disgust': 0.039958,\n",
       "      'anger': 0.08723}}}},\n",
       "  'XTgVp0QkXUJUnqprblt-3w',\n",
       "  'JaPqc4gZIVLuSjIytI0XrQ']]"
      ]
     },
     "execution_count": 28,
     "metadata": {},
     "output_type": "execute_result"
    }
   ],
   "source": [
    "#time_adj_emotion_df"
   ]
  }
 ],
 "metadata": {
  "kernelspec": {
   "display_name": "Python 3",
   "language": "python",
   "name": "python3"
  },
  "language_info": {
   "codemirror_mode": {
    "name": "ipython",
    "version": 3
   },
   "file_extension": ".py",
   "mimetype": "text/x-python",
   "name": "python",
   "nbconvert_exporter": "python",
   "pygments_lexer": "ipython3",
   "version": "3.7.6"
  }
 },
 "nbformat": 4,
 "nbformat_minor": 4
}
